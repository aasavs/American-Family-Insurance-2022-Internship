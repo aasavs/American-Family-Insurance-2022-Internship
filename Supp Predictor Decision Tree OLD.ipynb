{
 "cells": [
  {
   "cell_type": "code",
   "execution_count": 15,
   "id": "63926a37",
   "metadata": {},
   "outputs": [],
   "source": [
    "import pandas as pd\n",
    "from sklearn.tree import DecisionTreeClassifier, plot_tree\n",
    "from sklearn.pipeline import make_pipeline, Pipeline\n",
    "from sklearn.preprocessing import PolynomialFeatures\n",
    "from sklearn.linear_model import LinearRegression, LogisticRegression\n",
    "from sklearn.model_selection import train_test_split, cross_val_score\n",
    "from sklearn import datasets\n",
    "import numpy as np\n",
    "from sklearn.preprocessing import StandardScaler, OneHotEncoder\n",
    "from sklearn.compose import make_column_transformer, ColumnTransformer\n",
    "from sklearn.compose import make_column_selector as selector\n",
    "from sklearn import set_config\n",
    "from time import time\n",
    "from datetime import datetime\n",
    "from dateutil import parser\n",
    "from sklearn.model_selection import cross_validate, ParameterGrid, GridSearchCV\n",
    "from sklearn.ensemble import HistGradientBoostingClassifier\n",
    "from sklearn.preprocessing import OrdinalEncoder, LabelBinarizer\n",
    "from matplotlib import pyplot as plt\n",
    "from sklearn import datasets\n",
    "from sklearn import tree\n",
    "from sklearn.tree import plot_tree\n",
    "from sklearn.datasets import load_breast_cancer\n",
    "from sklearn.metrics import make_scorer, accuracy_score, classification_report"
   ]
  },
  {
   "cell_type": "code",
   "execution_count": 16,
   "id": "2bf0a8ad",
   "metadata": {},
   "outputs": [],
   "source": [
    "def prep_df(csv):\n",
    "    global df_original\n",
    "    df_original = pd.read_csv(csv)\n",
    "    df = pd.read_csv(csv)\n",
    "    df[\"date_today\"] = datetime.now()\n",
    "    df = df.dropna(subset = [\"original_estimate_complete_datetime\"])\n",
    "    df[\"estimate_date_parse\"] = df[\"original_estimate_complete_datetime\"].apply(lambda x: parser.parse(str(x)))\n",
    "    df = df.assign(time_since_estimate =  df['date_today'] - df['estimate_date_parse'])\n",
    "    df[\"days_since_estimate\"] = df[\"time_since_estimate\"].apply(lambda x: int(str(x).split()[0]))\n",
    "   \n",
    "    del df[\"time_since_estimate\"]\n",
    "    df1 = df[df[\"suppCnt\"] == 0]\n",
    "    df2 = df[df[\"suppCnt\"] != 0]\n",
    "    df1[\"suppInd\"] = 0\n",
    "    df2[\"suppInd\"] = 1\n",
    "    df = pd.concat([df1,df2], axis = 0)\n",
    "    df[\"paid_loss_amount\"] = df[\"paid_loss_amount\"].apply(lambda x: abs(x))\n",
    "    df[\"primary_point_of_impact\"].fillna(\"Unknown\",inplace = True)\n",
    "    df[\"total_loss_points\"].fillna(999,inplace = True)\n",
    "    df[\"insured_fault_pct\"].fillna(999,inplace = True)\n",
    "    global df_w_days\n",
    "    df_w_days = df\n",
    "    df = df[[\"claim_number\",\"company\",\"coverage_grouping\",\"detailed_loss_cause\",'driveable_ind',\"insured_fault_pct\",\"insured_fault_rating\",\"line_of_business\",\"loss_cause\",\"loss_party_type\",\"loss_state\",\"original_estimate_complete_datetime\",\"payAfterCloseInd\",\"policy_state\",\"policy_type\",\"primary_point_of_impact\",\"saved_vehicle_as_type\",\"secondary_point_of_impact\",\"total_loss_points\",\"vehicle_make\",\"vehicle_year\",\"suppInd\",\"maxNet\",\"minNet\",\"maxFile\",\"minFile\",\"days_since_estimate\"]]\n",
    "    global df_full_data\n",
    "    df_full_data = df\n",
    "    df = df[df[\"days_since_estimate\"] >= 90]\n",
    "    return df"
   ]
  },
  {
   "cell_type": "code",
   "execution_count": 17,
   "id": "6386e01b",
   "metadata": {},
   "outputs": [
    {
     "name": "stderr",
     "output_type": "stream",
     "text": [
      "C:\\Users\\TWILLI16\\AppData\\Local\\Temp\\ipykernel_13748\\1398384070.py:3: DtypeWarning: Columns (28,35) have mixed types. Specify dtype option on import or set low_memory=False.\n",
      "  df_original = pd.read_csv(csv)\n",
      "C:\\Users\\TWILLI16\\AppData\\Local\\Temp\\ipykernel_13748\\1398384070.py:4: DtypeWarning: Columns (28,35) have mixed types. Specify dtype option on import or set low_memory=False.\n",
      "  df = pd.read_csv(csv)\n",
      "C:\\Users\\TWILLI16\\AppData\\Local\\Temp\\ipykernel_13748\\1398384070.py:7: SettingWithCopyWarning: \n",
      "A value is trying to be set on a copy of a slice from a DataFrame.\n",
      "Try using .loc[row_indexer,col_indexer] = value instead\n",
      "\n",
      "See the caveats in the documentation: https://pandas.pydata.org/pandas-docs/stable/user_guide/indexing.html#returning-a-view-versus-a-copy\n",
      "  df[\"estimate_date_parse\"] = df[\"original_estimate_complete_datetime\"].apply(lambda x: parser.parse(str(x)))\n",
      "C:\\Users\\TWILLI16\\AppData\\Local\\Temp\\ipykernel_13748\\1398384070.py:14: SettingWithCopyWarning: \n",
      "A value is trying to be set on a copy of a slice from a DataFrame.\n",
      "Try using .loc[row_indexer,col_indexer] = value instead\n",
      "\n",
      "See the caveats in the documentation: https://pandas.pydata.org/pandas-docs/stable/user_guide/indexing.html#returning-a-view-versus-a-copy\n",
      "  df1[\"suppInd\"] = 0\n",
      "C:\\Users\\TWILLI16\\AppData\\Local\\Temp\\ipykernel_13748\\1398384070.py:15: SettingWithCopyWarning: \n",
      "A value is trying to be set on a copy of a slice from a DataFrame.\n",
      "Try using .loc[row_indexer,col_indexer] = value instead\n",
      "\n",
      "See the caveats in the documentation: https://pandas.pydata.org/pandas-docs/stable/user_guide/indexing.html#returning-a-view-versus-a-copy\n",
      "  df2[\"suppInd\"] = 1\n"
     ]
    }
   ],
   "source": [
    "df = prep_df(\"Supp Prediction.csv\")"
   ]
  },
  {
   "cell_type": "code",
   "execution_count": 18,
   "id": "cc9325c7",
   "metadata": {},
   "outputs": [],
   "source": [
    "df = df.set_index(\"claim_number\")\n",
    "target_name = \"suppInd\"\n",
    "Y = df[target_name]\n",
    "X = df.drop(columns=[target_name,\"payAfterCloseInd\",\"days_since_estimate\",\"maxNet\",\"minNet\",\"company\",\"line_of_business\",\"policy_state\",])"
   ]
  },
  {
   "cell_type": "code",
   "execution_count": 19,
   "id": "149a983f",
   "metadata": {},
   "outputs": [],
   "source": [
    "numerical_columns_selector = selector(dtype_exclude=object)\n",
    "categorical_columns_selector = selector(dtype_include=object)\n",
    "numerical_columns = numerical_columns_selector(X)\n",
    "categorical_columns = categorical_columns_selector(X)\n",
    "categorical_preprocessor = OneHotEncoder(handle_unknown=\"ignore\")\n",
    "numerical_preprocessor = StandardScaler()\n",
    "preprocessor = ColumnTransformer([\n",
    "    ('one-hot-encoder', categorical_preprocessor, categorical_columns),\n",
    "    ('standard_scaler', numerical_preprocessor, numerical_columns)])"
   ]
  },
  {
   "cell_type": "code",
   "execution_count": 49,
   "id": "0793aa3e",
   "metadata": {},
   "outputs": [],
   "source": [
    "model = make_pipeline(preprocessor, DecisionTreeClassifier(max_depth = 7))"
   ]
  },
  {
   "cell_type": "code",
   "execution_count": 50,
   "id": "dccd2401",
   "metadata": {},
   "outputs": [],
   "source": [
    "X_train, X_test, Y_train, Y_test = train_test_split(X, Y, random_state = 42)"
   ]
  },
  {
   "cell_type": "code",
   "execution_count": 51,
   "id": "6802e77e",
   "metadata": {},
   "outputs": [],
   "source": [
    "clf = model.fit(X_train, Y_train)\n"
   ]
  },
  {
   "cell_type": "code",
   "execution_count": 52,
   "id": "0c550002",
   "metadata": {},
   "outputs": [
    {
     "data": {
      "text/plain": [
       "0.8512380349655881"
      ]
     },
     "execution_count": 52,
     "metadata": {},
     "output_type": "execute_result"
    }
   ],
   "source": [
    "clf.score(X_test, Y_test)"
   ]
  },
  {
   "cell_type": "code",
   "execution_count": 53,
   "id": "0e4091ac",
   "metadata": {},
   "outputs": [
    {
     "name": "stderr",
     "output_type": "stream",
     "text": [
      "C:\\Users\\TWILLI16\\AppData\\Local\\Temp\\ipykernel_13748\\3283450760.py:2: SettingWithCopyWarning: \n",
      "A value is trying to be set on a copy of a slice from a DataFrame.\n",
      "Try using .loc[row_indexer,col_indexer] = value instead\n",
      "\n",
      "See the caveats in the documentation: https://pandas.pydata.org/pandas-docs/stable/user_guide/indexing.html#returning-a-view-versus-a-copy\n",
      "  df_under_90[\"prediction\"] = clf.predict(df_under_90.drop(columns=[target_name,\"payAfterCloseInd\",\"days_since_estimate\",\"maxNet\",\"minNet\",\"company\",\"line_of_business\",\"policy_state\",]))\n"
     ]
    }
   ],
   "source": [
    "df_under_90 = df_full_data[df_full_data[\"days_since_estimate\"] < 90]\n",
    "df_under_90[\"prediction\"] = clf.predict(df_under_90.drop(columns=[target_name,\"payAfterCloseInd\",\"days_since_estimate\",\"maxNet\",\"minNet\",\"company\",\"line_of_business\",\"policy_state\",]))"
   ]
  },
  {
   "cell_type": "code",
   "execution_count": 54,
   "id": "ac69b46c",
   "metadata": {},
   "outputs": [
    {
     "name": "stderr",
     "output_type": "stream",
     "text": [
      "C:\\Users\\TWILLI16\\AppData\\Local\\Temp\\ipykernel_13748\\4259847201.py:1: UserWarning: Boolean Series key will be reindexed to match DataFrame index.\n",
      "  df_under_90[df_under_90[\"prediction\"] == 1][df_under_90[\"suppInd\"] == 0][[\"claim_number\"]]\n"
     ]
    },
    {
     "data": {
      "text/html": [
       "<div>\n",
       "<style scoped>\n",
       "    .dataframe tbody tr th:only-of-type {\n",
       "        vertical-align: middle;\n",
       "    }\n",
       "\n",
       "    .dataframe tbody tr th {\n",
       "        vertical-align: top;\n",
       "    }\n",
       "\n",
       "    .dataframe thead th {\n",
       "        text-align: right;\n",
       "    }\n",
       "</style>\n",
       "<table border=\"1\" class=\"dataframe\">\n",
       "  <thead>\n",
       "    <tr style=\"text-align: right;\">\n",
       "      <th></th>\n",
       "      <th>claim_number</th>\n",
       "    </tr>\n",
       "  </thead>\n",
       "  <tbody>\n",
       "    <tr>\n",
       "      <th>121</th>\n",
       "      <td>01-004-970117</td>\n",
       "    </tr>\n",
       "    <tr>\n",
       "      <th>166</th>\n",
       "      <td>01-004-933214</td>\n",
       "    </tr>\n",
       "    <tr>\n",
       "      <th>247</th>\n",
       "      <td>01-004-753826</td>\n",
       "    </tr>\n",
       "    <tr>\n",
       "      <th>385</th>\n",
       "      <td>01-004-758484</td>\n",
       "    </tr>\n",
       "    <tr>\n",
       "      <th>556</th>\n",
       "      <td>01-004-492433</td>\n",
       "    </tr>\n",
       "    <tr>\n",
       "      <th>...</th>\n",
       "      <td>...</td>\n",
       "    </tr>\n",
       "    <tr>\n",
       "      <th>286595</th>\n",
       "      <td>01-004-854038</td>\n",
       "    </tr>\n",
       "    <tr>\n",
       "      <th>286601</th>\n",
       "      <td>01-004-688060</td>\n",
       "    </tr>\n",
       "    <tr>\n",
       "      <th>286611</th>\n",
       "      <td>01-004-827913</td>\n",
       "    </tr>\n",
       "    <tr>\n",
       "      <th>286614</th>\n",
       "      <td>01-004-723980</td>\n",
       "    </tr>\n",
       "    <tr>\n",
       "      <th>286617</th>\n",
       "      <td>01-004-792164</td>\n",
       "    </tr>\n",
       "  </tbody>\n",
       "</table>\n",
       "<p>11191 rows × 1 columns</p>\n",
       "</div>"
      ],
      "text/plain": [
       "         claim_number\n",
       "121     01-004-970117\n",
       "166     01-004-933214\n",
       "247     01-004-753826\n",
       "385     01-004-758484\n",
       "556     01-004-492433\n",
       "...               ...\n",
       "286595  01-004-854038\n",
       "286601  01-004-688060\n",
       "286611  01-004-827913\n",
       "286614  01-004-723980\n",
       "286617  01-004-792164\n",
       "\n",
       "[11191 rows x 1 columns]"
      ]
     },
     "execution_count": 54,
     "metadata": {},
     "output_type": "execute_result"
    }
   ],
   "source": [
    "df_under_90[df_under_90[\"prediction\"] == 1][df_under_90[\"suppInd\"] == 0][[\"claim_number\"]]"
   ]
  },
  {
   "cell_type": "code",
   "execution_count": 42,
   "id": "7da9b5a3",
   "metadata": {},
   "outputs": [
    {
     "data": {
      "text/plain": [
       "11193"
      ]
     },
     "execution_count": 42,
     "metadata": {},
     "output_type": "execute_result"
    }
   ],
   "source": [
    "11193"
   ]
  },
  {
   "cell_type": "code",
   "execution_count": null,
   "id": "e94c5642",
   "metadata": {},
   "outputs": [],
   "source": []
  }
 ],
 "metadata": {
  "kernelspec": {
   "display_name": "Python 3 (ipykernel)",
   "language": "python",
   "name": "python3"
  },
  "language_info": {
   "codemirror_mode": {
    "name": "ipython",
    "version": 3
   },
   "file_extension": ".py",
   "mimetype": "text/x-python",
   "name": "python",
   "nbconvert_exporter": "python",
   "pygments_lexer": "ipython3",
   "version": "3.9.12"
  }
 },
 "nbformat": 4,
 "nbformat_minor": 5
}
